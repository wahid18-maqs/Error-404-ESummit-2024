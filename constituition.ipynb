{
 "cells": [
  {
   "cell_type": "code",
   "execution_count": 10,
   "id": "7023e04e",
   "metadata": {},
   "outputs": [
    {
     "name": "stdout",
     "output_type": "stream",
     "text": [
      "Requirement already satisfied: sentence-transformers in c:\\users\\wahidullah\\desktop\\error-404-esummit-2024\\law\\lib\\site-packages (3.0.1)Note: you may need to restart the kernel to use updated packages.\n",
      "\n",
      "Collecting sentence-transformers\n",
      "  Using cached sentence_transformers-3.3.0-py3-none-any.whl.metadata (10 kB)\n",
      "Requirement already satisfied: transformers<5.0.0,>=4.41.0 in c:\\users\\wahidullah\\desktop\\error-404-esummit-2024\\law\\lib\\site-packages (from sentence-transformers) (4.46.2)\n",
      "Requirement already satisfied: tqdm in c:\\users\\wahidullah\\desktop\\error-404-esummit-2024\\law\\lib\\site-packages (from sentence-transformers) (4.67.0)\n",
      "Requirement already satisfied: torch>=1.11.0 in c:\\users\\wahidullah\\desktop\\error-404-esummit-2024\\law\\lib\\site-packages (from sentence-transformers) (2.5.1)\n",
      "Requirement already satisfied: scikit-learn in c:\\users\\wahidullah\\desktop\\error-404-esummit-2024\\law\\lib\\site-packages (from sentence-transformers) (1.5.2)\n",
      "Requirement already satisfied: scipy in c:\\users\\wahidullah\\desktop\\error-404-esummit-2024\\law\\lib\\site-packages (from sentence-transformers) (1.14.1)\n",
      "Requirement already satisfied: huggingface-hub>=0.20.0 in c:\\users\\wahidullah\\desktop\\error-404-esummit-2024\\law\\lib\\site-packages (from sentence-transformers) (0.26.2)\n",
      "Requirement already satisfied: Pillow in c:\\users\\wahidullah\\desktop\\error-404-esummit-2024\\law\\lib\\site-packages (from sentence-transformers) (11.0.0)\n",
      "Requirement already satisfied: filelock in c:\\users\\wahidullah\\desktop\\error-404-esummit-2024\\law\\lib\\site-packages (from huggingface-hub>=0.20.0->sentence-transformers) (3.16.1)\n",
      "Requirement already satisfied: fsspec>=2023.5.0 in c:\\users\\wahidullah\\desktop\\error-404-esummit-2024\\law\\lib\\site-packages (from huggingface-hub>=0.20.0->sentence-transformers) (2024.10.0)\n",
      "Requirement already satisfied: packaging>=20.9 in c:\\users\\wahidullah\\desktop\\error-404-esummit-2024\\law\\lib\\site-packages (from huggingface-hub>=0.20.0->sentence-transformers) (24.2)\n",
      "Requirement already satisfied: pyyaml>=5.1 in c:\\users\\wahidullah\\desktop\\error-404-esummit-2024\\law\\lib\\site-packages (from huggingface-hub>=0.20.0->sentence-transformers) (6.0.2)\n",
      "Requirement already satisfied: requests in c:\\users\\wahidullah\\desktop\\error-404-esummit-2024\\law\\lib\\site-packages (from huggingface-hub>=0.20.0->sentence-transformers) (2.32.3)\n",
      "Requirement already satisfied: typing-extensions>=3.7.4.3 in c:\\users\\wahidullah\\desktop\\error-404-esummit-2024\\law\\lib\\site-packages (from huggingface-hub>=0.20.0->sentence-transformers) (4.12.2)\n",
      "Requirement already satisfied: networkx in c:\\users\\wahidullah\\desktop\\error-404-esummit-2024\\law\\lib\\site-packages (from torch>=1.11.0->sentence-transformers) (3.4.2)\n",
      "Requirement already satisfied: jinja2 in c:\\users\\wahidullah\\desktop\\error-404-esummit-2024\\law\\lib\\site-packages (from torch>=1.11.0->sentence-transformers) (3.1.4)\n",
      "Requirement already satisfied: setuptools in c:\\users\\wahidullah\\desktop\\error-404-esummit-2024\\law\\lib\\site-packages (from torch>=1.11.0->sentence-transformers) (75.5.0)\n",
      "Requirement already satisfied: sympy==1.13.1 in c:\\users\\wahidullah\\desktop\\error-404-esummit-2024\\law\\lib\\site-packages (from torch>=1.11.0->sentence-transformers) (1.13.1)\n",
      "Requirement already satisfied: mpmath<1.4,>=1.1.0 in c:\\users\\wahidullah\\desktop\\error-404-esummit-2024\\law\\lib\\site-packages (from sympy==1.13.1->torch>=1.11.0->sentence-transformers) (1.3.0)\n",
      "Requirement already satisfied: colorama in c:\\users\\wahidullah\\desktop\\error-404-esummit-2024\\law\\lib\\site-packages (from tqdm->sentence-transformers) (0.4.6)\n",
      "Requirement already satisfied: numpy>=1.17 in c:\\users\\wahidullah\\desktop\\error-404-esummit-2024\\law\\lib\\site-packages (from transformers<5.0.0,>=4.41.0->sentence-transformers) (1.26.4)\n",
      "Requirement already satisfied: regex!=2019.12.17 in c:\\users\\wahidullah\\desktop\\error-404-esummit-2024\\law\\lib\\site-packages (from transformers<5.0.0,>=4.41.0->sentence-transformers) (2024.11.6)\n",
      "Requirement already satisfied: safetensors>=0.4.1 in c:\\users\\wahidullah\\desktop\\error-404-esummit-2024\\law\\lib\\site-packages (from transformers<5.0.0,>=4.41.0->sentence-transformers) (0.4.5)\n",
      "Requirement already satisfied: tokenizers<0.21,>=0.20 in c:\\users\\wahidullah\\desktop\\error-404-esummit-2024\\law\\lib\\site-packages (from transformers<5.0.0,>=4.41.0->sentence-transformers) (0.20.3)\n",
      "Requirement already satisfied: joblib>=1.2.0 in c:\\users\\wahidullah\\desktop\\error-404-esummit-2024\\law\\lib\\site-packages (from scikit-learn->sentence-transformers) (1.4.2)\n",
      "Requirement already satisfied: threadpoolctl>=3.1.0 in c:\\users\\wahidullah\\desktop\\error-404-esummit-2024\\law\\lib\\site-packages (from scikit-learn->sentence-transformers) (3.5.0)\n",
      "Requirement already satisfied: MarkupSafe>=2.0 in c:\\users\\wahidullah\\desktop\\error-404-esummit-2024\\law\\lib\\site-packages (from jinja2->torch>=1.11.0->sentence-transformers) (3.0.2)\n",
      "Requirement already satisfied: charset-normalizer<4,>=2 in c:\\users\\wahidullah\\desktop\\error-404-esummit-2024\\law\\lib\\site-packages (from requests->huggingface-hub>=0.20.0->sentence-transformers) (3.4.0)\n",
      "Requirement already satisfied: idna<4,>=2.5 in c:\\users\\wahidullah\\desktop\\error-404-esummit-2024\\law\\lib\\site-packages (from requests->huggingface-hub>=0.20.0->sentence-transformers) (3.10)\n",
      "Requirement already satisfied: urllib3<3,>=1.21.1 in c:\\users\\wahidullah\\desktop\\error-404-esummit-2024\\law\\lib\\site-packages (from requests->huggingface-hub>=0.20.0->sentence-transformers) (2.2.3)\n",
      "Requirement already satisfied: certifi>=2017.4.17 in c:\\users\\wahidullah\\desktop\\error-404-esummit-2024\\law\\lib\\site-packages (from requests->huggingface-hub>=0.20.0->sentence-transformers) (2024.8.30)\n",
      "Using cached sentence_transformers-3.3.0-py3-none-any.whl (268 kB)\n",
      "Installing collected packages: sentence-transformers\n",
      "  Attempting uninstall: sentence-transformers\n",
      "    Found existing installation: sentence-transformers 3.0.1\n",
      "    Uninstalling sentence-transformers-3.0.1:\n",
      "      Successfully uninstalled sentence-transformers-3.0.1\n",
      "Successfully installed sentence-transformers-3.3.0\n"
     ]
    },
    {
     "name": "stderr",
     "output_type": "stream",
     "text": [
      "\n",
      "[notice] A new release of pip is available: 24.0 -> 24.3.1\n",
      "[notice] To update, run: python.exe -m pip install --upgrade pip\n"
     ]
    }
   ],
   "source": [
    "pip install -U sentence-transformers\n"
   ]
  },
  {
   "cell_type": "code",
   "execution_count": 11,
   "id": "e879e44d-0536-41fd-b719-dc71ce9b1f5c",
   "metadata": {},
   "outputs": [
    {
     "name": "stderr",
     "output_type": "stream",
     "text": [
      "c:\\Users\\WAHIDULLAH\\Desktop\\Error-404-ESummit-2024\\law\\Lib\\site-packages\\tqdm\\auto.py:21: TqdmWarning: IProgress not found. Please update jupyter and ipywidgets. See https://ipywidgets.readthedocs.io/en/stable/user_install.html\n",
      "  from .autonotebook import tqdm as notebook_tqdm\n"
     ]
    }
   ],
   "source": [
    "from langchain_google_genai import GoogleGenerativeAI\n",
    "from langchain_community.vectorstores import FAISS\n",
    "from langchain_community.embeddings import HuggingFaceInferenceAPIEmbeddings\n",
    "from langchain_core.prompts import MessagesPlaceholder, ChatPromptTemplate\n",
    "from langchain_core.messages import HumanMessage, AIMessage\n",
    "from langchain.chains import create_retrieval_chain\n",
    "from langchain.chains.history_aware_retriever import create_history_aware_retriever\n",
    "from langchain_core.prompts import ChatPromptTemplate\n",
    "from langchain.chains.combine_documents import create_stuff_documents_chain\n",
    "from hide import gemini_api, hf_api as inference_api_key\n",
    "import time\n",
    "import os"
   ]
  },
  {
   "cell_type": "code",
   "execution_count": 12,
   "id": "d7e9c90c",
   "metadata": {},
   "outputs": [],
   "source": [
    "def create_db():\n",
    "    embedding = HuggingFaceInferenceAPIEmbeddings(\n",
    "        api_key=inference_api_key, model_name=\"sentence-transformers/all-MiniLM-l6-v2\"\n",
    "    )\n",
    "    vectorStore = FAISS.load_local(\"faiss_index_law\", embedding, allow_dangerous_deserialization=True)\n",
    "    return vectorStore"
   ]
  },
  {
   "cell_type": "code",
   "execution_count": null,
   "id": "31cde420",
   "metadata": {},
   "outputs": [],
   "source": [
    "def create_chain(vectorStore):\n",
    "    model = GoogleGenerativeAI(model=\"gemini-1.5-flash\", google_api_key=gemini_api)\n",
    "\n",
    "    prompt = ChatPromptTemplate.from_messages([\n",
    "        (\"system\", \"You are a friendly Law AI Bot. You always greet the user well and treat respectfully. You have knowledge related to Indian Constitution. You have to give detailed answer on any law for atleast 500 words. \\n Note: Only respond as Law AI, no other character. ALWAYS START Your Answer Directly, without mentioning your name. Do Not add extra Spaces. Always write in third person. Always make your answer clear and complete. Answer only if a relevant question is asked, and Answer only if you know the answer, otherwise don't answer with unknown or vague information. Take care of the ethics. Answer the user's questions based on the relevant sentences: {context}\"),\n",
    "        MessagesPlaceholder(variable_name=\"chat_history\"),\n",
    "        (\"user\", \"{input}\")\n",
    "    ])\n",
    "\n",
    "    chain = create_stuff_documents_chain(\n",
    "        llm=model,\n",
    "        prompt=prompt\n",
    "    )\n",
    "\n",
    "    \n",
    "    retriever = vectorStore.as_retriever(search_kwargs={\"k\": 10})\n",
    "\n",
    "    retriever_prompt = ChatPromptTemplate.from_messages([\n",
    "        MessagesPlaceholder(variable_name=\"chat_history\"),\n",
    "        (\"user\", \"{input}\"),\n",
    "        (\"user\", \"Given the above chat history, generate a search query to look up in order to get information relevant to the conversation\")\n",
    "    ])\n",
    "\n",
    "    history_aware_retriever = create_history_aware_retriever(\n",
    "        llm=model,\n",
    "        retriever=retriever,\n",
    "        prompt=retriever_prompt\n",
    "    )\n",
    "\n",
    "    retrieval_chain = create_retrieval_chain(\n",
    "        \n",
    "        history_aware_retriever,\n",
    "        chain\n",
    "    )\n",
    "\n",
    "    return retrieval_chain"
   ]
  },
  {
   "cell_type": "code",
   "execution_count": 14,
   "id": "d000e486",
   "metadata": {},
   "outputs": [],
   "source": [
    "def process_chat(chain, question, chat_history):\n",
    "    response = chain.invoke({\n",
    "        \"chat_history\": chat_history,\n",
    "        \"input\": question,\n",
    "    })\n",
    "    return response.get(\"answer\")"
   ]
  },
  {
   "cell_type": "code",
   "execution_count": null,
   "id": "ea65b2e7",
   "metadata": {},
   "outputs": [
    {
     "name": "stdout",
     "output_type": "stream",
     "text": [
      "Law AI: Article 370 of the Indian Constitution, as it existed before its revocation on August 5, 2019, provided special autonomous status to the State of Jammu and Kashmir.  The article's primary function was to grant temporary provisions regarding the state's integration into the Indian Union.  It allowed for a degree of self-governance while still maintaining its position within India.\n",
      "\n",
      "The original Article 370, as incorporated in the Constitution, allowed for the application of specific provisions of the Indian Constitution to Jammu and Kashmir with modifications.  This meant that not all laws passed by the Indian Parliament automatically applied to the state.  The state had its own constitution and its own flag.\n",
      "\n",
      "Clause (1) of Article 370 established that the provisions of the Indian Constitution, except for those specified in the article, would apply to Jammu and Kashmir subject to the modifications made by Presidential Orders issued on the recommendations of the State's Constituent Assembly.\n",
      "\n",
      "Clause (2) originally provided for the President to issue an order declaring that specific provisions of the Indian Constitution would apply to Jammu and Kashmir with any modifications or exceptions. This clause vested significant power in the President, acting upon the recommendations of the Jammu and Kashmir Constituent Assembly.  This process allowed for a gradual integration, preserving certain aspects of the state's autonomy.\n",
      "\n",
      "Clause (3) empowered the President to make further declarations regarding the application of the Constitution to Jammu and Kashmir.  This clause served as a mechanism for adapting the constitutional framework to the evolving circumstances in the state.\n",
      "\n",
      "The most significant aspect of Article 370 was the ability of the Jammu and Kashmir Constituent Assembly to recommend which parts of the Indian Constitution would apply to the state. This provision provided a unique degree of autonomy not afforded to any other state in India.  It allowed Jammu and Kashmir to have its own constitution, its own laws in many areas, and restrictions on the Indian government's ability to intervene in the state's internal affairs.\n",
      "\n",
      "However, the application of Article 370 was often a source of political debate and contention. While it aimed to balance the state's integration with its unique identity, it also led to complexities and challenges in governance and administration.  The debates centered around issues such as the extent of the state's autonomy, the applicability of fundamental rights, and the representation of the state in the Indian Parliament.\n",
      "\n",
      "The Presidential Order of August 5, 2019, effectively revoked all but the introductory clause of Article 370.  This order, issued under the powers conferred by clause (3) of Article 370, declared that, from August 6, 2019, all clauses of Article 370 ceased to be operative except for a single clause. This new clause stated that all provisions of the Indian Constitution, as amended from time to time, without any modifications or exceptions, shall apply to the State of Jammu and Kashmir, notwithstanding anything contrary contained in other articles of the Constitution or any other provision of the Constitution of Jammu and Kashmir or any law, document, judgment, order, or custom having the force of law in the territory of India. This effectively ended the special status of Jammu and Kashmir and integrated it fully into the Indian Union.  The revocation was a significant constitutional change with far-reaching consequences for the region's political, social, and economic landscape.  The legal justification for the revocation was based on the President's power under Article 370(3) and Parliament's concurrent power to amend the Constitution.  The action was supported by the government as necessary for national security and integration, while critics argued it violated the state's autonomy and the rights of its people.\n",
      "\n",
      "--------------------------------------------------------------------------------\n"
     ]
    }
   ],
   "source": [
    "vectorStore = create_db()\n",
    "chain = create_chain(vectorStore)\n",
    "\n",
    "\n",
    "chat_history = []\n",
    "\n",
    "while True:\n",
    "    user_input = input(\"User: \")    \n",
    "    if user_input.lower() == 'exit':\n",
    "        break\n",
    "    response = process_chat(chain, user_input, chat_history)\n",
    "    chat_history.append(HumanMessage(content=user_input))\n",
    "    chat_history.append(AIMessage(content=response))\n",
    "    print(\"Law AI: \" + response)\n",
    "    print(\"--------------------------------------------------------------------------------\")   "
   ]
  }
 ],
 "metadata": {
  "kernelspec": {
   "display_name": "law",
   "language": "python",
   "name": "python3"
  },
  "language_info": {
   "codemirror_mode": {
    "name": "ipython",
    "version": 3
   },
   "file_extension": ".py",
   "mimetype": "text/x-python",
   "name": "python",
   "nbconvert_exporter": "python",
   "pygments_lexer": "ipython3",
   "version": "3.12.4"
  }
 },
 "nbformat": 4,
 "nbformat_minor": 5
}
